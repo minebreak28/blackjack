{
 "cells": [
  {
   "cell_type": "code",
   "execution_count": 43,
   "metadata": {},
   "outputs": [
    {
     "name": "stdout",
     "output_type": "stream",
     "text": [
      "Requirement already satisfied: pandas in c:\\users\\h1489\\appdata\\local\\packages\\pythonsoftwarefoundation.python.3.10_qbz5n2kfra8p0\\localcache\\local-packages\\python310\\site-packages (1.5.3)\n",
      "Requirement already satisfied: scikit-learn in c:\\users\\h1489\\appdata\\local\\packages\\pythonsoftwarefoundation.python.3.10_qbz5n2kfra8p0\\localcache\\local-packages\\python310\\site-packages (1.2.2)\n",
      "Requirement already satisfied: pytz>=2020.1 in c:\\users\\h1489\\appdata\\local\\packages\\pythonsoftwarefoundation.python.3.10_qbz5n2kfra8p0\\localcache\\local-packages\\python310\\site-packages (from pandas) (2022.7.1)\n",
      "Requirement already satisfied: python-dateutil>=2.8.1 in c:\\users\\h1489\\appdata\\local\\packages\\pythonsoftwarefoundation.python.3.10_qbz5n2kfra8p0\\localcache\\local-packages\\python310\\site-packages (from pandas) (2.8.2)\n",
      "Requirement already satisfied: numpy>=1.21.0 in c:\\users\\h1489\\appdata\\local\\packages\\pythonsoftwarefoundation.python.3.10_qbz5n2kfra8p0\\localcache\\local-packages\\python310\\site-packages (from pandas) (1.24.2)\n",
      "Requirement already satisfied: joblib>=1.1.1 in c:\\users\\h1489\\appdata\\local\\packages\\pythonsoftwarefoundation.python.3.10_qbz5n2kfra8p0\\localcache\\local-packages\\python310\\site-packages (from scikit-learn) (1.2.0)\n",
      "Requirement already satisfied: threadpoolctl>=2.0.0 in c:\\users\\h1489\\appdata\\local\\packages\\pythonsoftwarefoundation.python.3.10_qbz5n2kfra8p0\\localcache\\local-packages\\python310\\site-packages (from scikit-learn) (3.1.0)\n",
      "Requirement already satisfied: scipy>=1.3.2 in c:\\users\\h1489\\appdata\\local\\packages\\pythonsoftwarefoundation.python.3.10_qbz5n2kfra8p0\\localcache\\local-packages\\python310\\site-packages (from scikit-learn) (1.10.1)\n",
      "Requirement already satisfied: six>=1.5 in c:\\users\\h1489\\appdata\\local\\packages\\pythonsoftwarefoundation.python.3.10_qbz5n2kfra8p0\\localcache\\local-packages\\python310\\site-packages (from python-dateutil>=2.8.1->pandas) (1.16.0)\n"
     ]
    },
    {
     "name": "stderr",
     "output_type": "stream",
     "text": [
      "\n",
      "[notice] A new release of pip is available: 23.0.1 -> 23.1.1\n",
      "[notice] To update, run: C:\\Users\\h1489\\AppData\\Local\\Microsoft\\WindowsApps\\PythonSoftwareFoundation.Python.3.10_qbz5n2kfra8p0\\python.exe -m pip install --upgrade pip\n"
     ]
    }
   ],
   "source": [
    "! pip install pandas scikit-learn --user\n",
    "# you should be familiar with numpy, pandas and matplotlib from HW0\n",
    "import numpy as np\n",
    "import pandas as pd\n",
    "import matplotlib.pyplot as plt\n",
    "\n",
    "# we're using the Diabetes dataset from sklearn.datasets\n",
    "from sklearn import datasets\n",
    "\n",
    "# we will also be using the PCA library from scikit learn for this exercise\n",
    "from sklearn.decomposition import PCA\n",
    "\n",
    "# we will use the StandardScaler method to z-score normalize our data\n",
    "from sklearn.preprocessing import StandardScaler\n",
    "\n",
    "# Remember you have to run this cell block before continuing!"
   ]
  },
  {
   "cell_type": "code",
   "execution_count": 44,
   "metadata": {},
   "outputs": [
    {
     "data": {
      "text/html": [
       "<div>\n",
       "<style scoped>\n",
       "    .dataframe tbody tr th:only-of-type {\n",
       "        vertical-align: middle;\n",
       "    }\n",
       "\n",
       "    .dataframe tbody tr th {\n",
       "        vertical-align: top;\n",
       "    }\n",
       "\n",
       "    .dataframe thead th {\n",
       "        text-align: right;\n",
       "    }\n",
       "</style>\n",
       "<table border=\"1\" class=\"dataframe\">\n",
       "  <thead>\n",
       "    <tr style=\"text-align: right;\">\n",
       "      <th></th>\n",
       "      <th>Round</th>\n",
       "      <th>Dealer Wins</th>\n",
       "      <th>Player Wins</th>\n",
       "      <th>Pushes</th>\n",
       "      <th>Total Bet</th>\n",
       "      <th>Net Profit</th>\n",
       "      <th>Card Counting</th>\n",
       "    </tr>\n",
       "  </thead>\n",
       "  <tbody>\n",
       "    <tr>\n",
       "      <th>0</th>\n",
       "      <td>1</td>\n",
       "      <td>476.0</td>\n",
       "      <td>443.0</td>\n",
       "      <td>81.0</td>\n",
       "      <td>1097.0</td>\n",
       "      <td>-5.0</td>\n",
       "      <td>False</td>\n",
       "    </tr>\n",
       "    <tr>\n",
       "      <th>1</th>\n",
       "      <td>2</td>\n",
       "      <td>535.0</td>\n",
       "      <td>393.0</td>\n",
       "      <td>72.0</td>\n",
       "      <td>1096.0</td>\n",
       "      <td>-101.5</td>\n",
       "      <td>False</td>\n",
       "    </tr>\n",
       "    <tr>\n",
       "      <th>2</th>\n",
       "      <td>3</td>\n",
       "      <td>477.0</td>\n",
       "      <td>434.0</td>\n",
       "      <td>89.0</td>\n",
       "      <td>1097.0</td>\n",
       "      <td>4.0</td>\n",
       "      <td>False</td>\n",
       "    </tr>\n",
       "    <tr>\n",
       "      <th>3</th>\n",
       "      <td>4</td>\n",
       "      <td>508.0</td>\n",
       "      <td>400.0</td>\n",
       "      <td>92.0</td>\n",
       "      <td>1094.0</td>\n",
       "      <td>-78.5</td>\n",
       "      <td>False</td>\n",
       "    </tr>\n",
       "    <tr>\n",
       "      <th>4</th>\n",
       "      <td>5</td>\n",
       "      <td>462.0</td>\n",
       "      <td>446.0</td>\n",
       "      <td>92.0</td>\n",
       "      <td>1104.0</td>\n",
       "      <td>32.5</td>\n",
       "      <td>False</td>\n",
       "    </tr>\n",
       "    <tr>\n",
       "      <th>...</th>\n",
       "      <td>...</td>\n",
       "      <td>...</td>\n",
       "      <td>...</td>\n",
       "      <td>...</td>\n",
       "      <td>...</td>\n",
       "      <td>...</td>\n",
       "      <td>...</td>\n",
       "    </tr>\n",
       "    <tr>\n",
       "      <th>1995</th>\n",
       "      <td>1996</td>\n",
       "      <td>502.0</td>\n",
       "      <td>409.0</td>\n",
       "      <td>89.0</td>\n",
       "      <td>1380.0</td>\n",
       "      <td>-76.0</td>\n",
       "      <td>True</td>\n",
       "    </tr>\n",
       "    <tr>\n",
       "      <th>1996</th>\n",
       "      <td>1997</td>\n",
       "      <td>485.0</td>\n",
       "      <td>430.0</td>\n",
       "      <td>85.0</td>\n",
       "      <td>1433.0</td>\n",
       "      <td>-15.0</td>\n",
       "      <td>True</td>\n",
       "    </tr>\n",
       "    <tr>\n",
       "      <th>1997</th>\n",
       "      <td>1998</td>\n",
       "      <td>493.0</td>\n",
       "      <td>413.0</td>\n",
       "      <td>94.0</td>\n",
       "      <td>1739.0</td>\n",
       "      <td>-105.5</td>\n",
       "      <td>True</td>\n",
       "    </tr>\n",
       "    <tr>\n",
       "      <th>1998</th>\n",
       "      <td>1999</td>\n",
       "      <td>466.0</td>\n",
       "      <td>430.0</td>\n",
       "      <td>104.0</td>\n",
       "      <td>1651.0</td>\n",
       "      <td>-19.0</td>\n",
       "      <td>True</td>\n",
       "    </tr>\n",
       "    <tr>\n",
       "      <th>1999</th>\n",
       "      <td>2000</td>\n",
       "      <td>478.0</td>\n",
       "      <td>432.0</td>\n",
       "      <td>90.0</td>\n",
       "      <td>1645.0</td>\n",
       "      <td>-68.0</td>\n",
       "      <td>True</td>\n",
       "    </tr>\n",
       "  </tbody>\n",
       "</table>\n",
       "<p>2000 rows × 7 columns</p>\n",
       "</div>"
      ],
      "text/plain": [
       "      Round  Dealer Wins  Player Wins  Pushes  Total Bet  Net Profit  \\\n",
       "0         1        476.0        443.0    81.0     1097.0        -5.0   \n",
       "1         2        535.0        393.0    72.0     1096.0      -101.5   \n",
       "2         3        477.0        434.0    89.0     1097.0         4.0   \n",
       "3         4        508.0        400.0    92.0     1094.0       -78.5   \n",
       "4         5        462.0        446.0    92.0     1104.0        32.5   \n",
       "...     ...          ...          ...     ...        ...         ...   \n",
       "1995   1996        502.0        409.0    89.0     1380.0       -76.0   \n",
       "1996   1997        485.0        430.0    85.0     1433.0       -15.0   \n",
       "1997   1998        493.0        413.0    94.0     1739.0      -105.5   \n",
       "1998   1999        466.0        430.0   104.0     1651.0       -19.0   \n",
       "1999   2000        478.0        432.0    90.0     1645.0       -68.0   \n",
       "\n",
       "      Card Counting  \n",
       "0             False  \n",
       "1             False  \n",
       "2             False  \n",
       "3             False  \n",
       "4             False  \n",
       "...             ...  \n",
       "1995           True  \n",
       "1996           True  \n",
       "1997           True  \n",
       "1998           True  \n",
       "1999           True  \n",
       "\n",
       "[2000 rows x 7 columns]"
      ]
     },
     "execution_count": 44,
     "metadata": {},
     "output_type": "execute_result"
    }
   ],
   "source": [
    "df = pd.DataFrame(pd.read_excel(\"datasets/blackjack_data.xlsx\"))\n",
    "df"
   ]
  },
  {
   "attachments": {},
   "cell_type": "markdown",
   "metadata": {},
   "source": [
    "PCA"
   ]
  },
  {
   "cell_type": "code",
   "execution_count": 45,
   "metadata": {},
   "outputs": [],
   "source": [
    "# Extract the features to be used in PCA\n",
    "features = ['Dealer Wins', 'Player Wins', 'Pushes', 'Total Bet', 'Net Profit', 'Card Counting']\n",
    "\n",
    "X = df.drop('Round', axis=1)\n",
    "\n",
    "# Standardize the features using StandardScaler\n",
    "x = StandardScaler().fit_transform(X)\n",
    "\n",
    "# Convert the standardized features back to a dataframe\n",
    "df_normalized = pd.DataFrame(x, columns=features)\n",
    "\n",
    "# Standardize the features using StandardScaler\n",
    "x = StandardScaler().fit_transform(x)\n",
    "\n",
    "# Convert the standardized features back to a dataframe\n",
    "df_normalized = pd.DataFrame(x, columns=features)"
   ]
  },
  {
   "cell_type": "code",
   "execution_count": 46,
   "metadata": {},
   "outputs": [
    {
     "data": {
      "text/html": [
       "<div>\n",
       "<style scoped>\n",
       "    .dataframe tbody tr th:only-of-type {\n",
       "        vertical-align: middle;\n",
       "    }\n",
       "\n",
       "    .dataframe tbody tr th {\n",
       "        vertical-align: top;\n",
       "    }\n",
       "\n",
       "    .dataframe thead th {\n",
       "        text-align: right;\n",
       "    }\n",
       "</style>\n",
       "<table border=\"1\" class=\"dataframe\">\n",
       "  <thead>\n",
       "    <tr style=\"text-align: right;\">\n",
       "      <th></th>\n",
       "      <th>PC1</th>\n",
       "      <th>PC2</th>\n",
       "      <th>PC3</th>\n",
       "      <th>PC4</th>\n",
       "      <th>PC5</th>\n",
       "    </tr>\n",
       "  </thead>\n",
       "  <tbody>\n",
       "    <tr>\n",
       "      <th>0</th>\n",
       "      <td>-1.246739</td>\n",
       "      <td>-1.164280</td>\n",
       "      <td>-0.605878</td>\n",
       "      <td>-0.451130</td>\n",
       "      <td>0.076705</td>\n",
       "    </tr>\n",
       "    <tr>\n",
       "      <th>1</th>\n",
       "      <td>3.965939</td>\n",
       "      <td>-1.859447</td>\n",
       "      <td>-1.447139</td>\n",
       "      <td>0.708427</td>\n",
       "      <td>0.083444</td>\n",
       "    </tr>\n",
       "    <tr>\n",
       "      <th>2</th>\n",
       "      <td>-1.023893</td>\n",
       "      <td>-1.246926</td>\n",
       "      <td>0.407221</td>\n",
       "      <td>-0.042320</td>\n",
       "      <td>0.075013</td>\n",
       "    </tr>\n",
       "    <tr>\n",
       "      <th>3</th>\n",
       "      <td>2.321112</td>\n",
       "      <td>-1.643885</td>\n",
       "      <td>0.965610</td>\n",
       "      <td>0.241704</td>\n",
       "      <td>0.061553</td>\n",
       "    </tr>\n",
       "    <tr>\n",
       "      <th>4</th>\n",
       "      <td>-2.370016</td>\n",
       "      <td>-1.058891</td>\n",
       "      <td>0.709093</td>\n",
       "      <td>-0.250309</td>\n",
       "      <td>0.094621</td>\n",
       "    </tr>\n",
       "    <tr>\n",
       "      <th>...</th>\n",
       "      <td>...</td>\n",
       "      <td>...</td>\n",
       "      <td>...</td>\n",
       "      <td>...</td>\n",
       "      <td>...</td>\n",
       "    </tr>\n",
       "    <tr>\n",
       "      <th>1995</th>\n",
       "      <td>1.986246</td>\n",
       "      <td>0.731305</td>\n",
       "      <td>0.566942</td>\n",
       "      <td>0.209623</td>\n",
       "      <td>-0.463671</td>\n",
       "    </tr>\n",
       "    <tr>\n",
       "      <th>1996</th>\n",
       "      <td>-0.086063</td>\n",
       "      <td>1.107045</td>\n",
       "      <td>-0.046353</td>\n",
       "      <td>0.272618</td>\n",
       "      <td>-0.292969</td>\n",
       "    </tr>\n",
       "    <tr>\n",
       "      <th>1997</th>\n",
       "      <td>1.926362</td>\n",
       "      <td>1.952830</td>\n",
       "      <td>1.194490</td>\n",
       "      <td>-0.468409</td>\n",
       "      <td>0.639370</td>\n",
       "    </tr>\n",
       "    <tr>\n",
       "      <th>1998</th>\n",
       "      <td>-0.787293</td>\n",
       "      <td>1.913796</td>\n",
       "      <td>2.295921</td>\n",
       "      <td>-0.178019</td>\n",
       "      <td>0.366661</td>\n",
       "    </tr>\n",
       "    <tr>\n",
       "      <th>1999</th>\n",
       "      <td>0.224811</td>\n",
       "      <td>1.874435</td>\n",
       "      <td>0.599626</td>\n",
       "      <td>-0.748677</td>\n",
       "      <td>0.350380</td>\n",
       "    </tr>\n",
       "  </tbody>\n",
       "</table>\n",
       "<p>2000 rows × 5 columns</p>\n",
       "</div>"
      ],
      "text/plain": [
       "           PC1       PC2       PC3       PC4       PC5\n",
       "0    -1.246739 -1.164280 -0.605878 -0.451130  0.076705\n",
       "1     3.965939 -1.859447 -1.447139  0.708427  0.083444\n",
       "2    -1.023893 -1.246926  0.407221 -0.042320  0.075013\n",
       "3     2.321112 -1.643885  0.965610  0.241704  0.061553\n",
       "4    -2.370016 -1.058891  0.709093 -0.250309  0.094621\n",
       "...        ...       ...       ...       ...       ...\n",
       "1995  1.986246  0.731305  0.566942  0.209623 -0.463671\n",
       "1996 -0.086063  1.107045 -0.046353  0.272618 -0.292969\n",
       "1997  1.926362  1.952830  1.194490 -0.468409  0.639370\n",
       "1998 -0.787293  1.913796  2.295921 -0.178019  0.366661\n",
       "1999  0.224811  1.874435  0.599626 -0.748677  0.350380\n",
       "\n",
       "[2000 rows x 5 columns]"
      ]
     },
     "execution_count": 46,
     "metadata": {},
     "output_type": "execute_result"
    }
   ],
   "source": [
    "# Apply PCA to the normalized dataset\n",
    "pca = PCA(n_components=5) # set the number of components to be 6\n",
    "principal_components = pca.fit_transform(df_normalized)\n",
    "\n",
    "# Convert the principal components to a dataframe\n",
    "df_pca = pd.DataFrame(data=principal_components, columns=['PC1', 'PC2', 'PC3', 'PC4', 'PC5'])\n",
    "df_pca"
   ]
  },
  {
   "cell_type": "code",
   "execution_count": 47,
   "metadata": {},
   "outputs": [
    {
     "data": {
      "text/html": [
       "<div>\n",
       "<style scoped>\n",
       "    .dataframe tbody tr th:only-of-type {\n",
       "        vertical-align: middle;\n",
       "    }\n",
       "\n",
       "    .dataframe tbody tr th {\n",
       "        vertical-align: top;\n",
       "    }\n",
       "\n",
       "    .dataframe thead th {\n",
       "        text-align: right;\n",
       "    }\n",
       "</style>\n",
       "<table border=\"1\" class=\"dataframe\">\n",
       "  <thead>\n",
       "    <tr style=\"text-align: right;\">\n",
       "      <th></th>\n",
       "      <th>Dealer Wins</th>\n",
       "      <th>Player Wins</th>\n",
       "      <th>Pushes</th>\n",
       "      <th>Total Bet</th>\n",
       "      <th>Net Profit</th>\n",
       "      <th>Card Counting</th>\n",
       "    </tr>\n",
       "  </thead>\n",
       "  <tbody>\n",
       "    <tr>\n",
       "      <th>PC1</th>\n",
       "      <td>0.582481</td>\n",
       "      <td>-0.570363</td>\n",
       "      <td>-0.050810</td>\n",
       "      <td>0.073120</td>\n",
       "      <td>-0.567774</td>\n",
       "      <td>0.071463</td>\n",
       "    </tr>\n",
       "    <tr>\n",
       "      <th>PC2</th>\n",
       "      <td>-0.111209</td>\n",
       "      <td>0.113876</td>\n",
       "      <td>0.000852</td>\n",
       "      <td>0.697097</td>\n",
       "      <td>-0.051030</td>\n",
       "      <td>0.697220</td>\n",
       "    </tr>\n",
       "  </tbody>\n",
       "</table>\n",
       "</div>"
      ],
      "text/plain": [
       "     Dealer Wins  Player Wins    Pushes  Total Bet  Net Profit  Card Counting\n",
       "PC1     0.582481    -0.570363 -0.050810   0.073120   -0.567774       0.071463\n",
       "PC2    -0.111209     0.113876  0.000852   0.697097   -0.051030       0.697220"
      ]
     },
     "execution_count": 47,
     "metadata": {},
     "output_type": "execute_result"
    }
   ],
   "source": [
    "# Extract the eigen vectors of the first two principal components\n",
    "eigen_vectors = pca.components_[:2]\n",
    "\n",
    "# Convert the eigen vectors to a dataframe\n",
    "df_eigen_vectors = pd.DataFrame(eigen_vectors, columns=['Dealer Wins', 'Player Wins', 'Pushes', 'Total Bet', 'Net Profit', 'Card Counting'], index=['PC1', 'PC2'])\n",
    "df_eigen_vectors"
   ]
  },
  {
   "cell_type": "code",
   "execution_count": 48,
   "metadata": {},
   "outputs": [
    {
     "name": "stdout",
     "output_type": "stream",
     "text": [
      "Feature importance based on the first two principal components:\n",
      "1. Pushes (0.05)\n",
      "2. Net Profit (0.57)\n",
      "3. Dealer Wins (0.58)\n",
      "4. Player Wins (0.57)\n",
      "5. Total Bet (0.07)\n",
      "6. Card Counting (0.07)\n"
     ]
    }
   ],
   "source": [
    "# Compute the absolute values of the eigen vectors\n",
    "abs_eigen_vectors = np.abs(eigen_vectors)\n",
    "sorted_indices = np.argsort(abs_eigen_vectors)[::-1]\n",
    "\n",
    "# Create a list of the feature names\n",
    "feature_names = ['Dealer Wins', 'Player Wins', 'Pushes', 'Total Bet', 'Net Profit', 'Card Counting']\n",
    "print(\"Feature importance based on the first two principal components:\")\n",
    "for i in range(abs_eigen_vectors.shape[1]):\n",
    "    print(\"{:d}. {:s} ({:.2f})\".format(i+1, feature_names[sorted_indices[0,i]], abs_eigen_vectors[0,sorted_indices[0,i]]))\n"
   ]
  },
  {
   "attachments": {},
   "cell_type": "markdown",
   "metadata": {},
   "source": [
    "PCA Observations:\n",
    "\n",
    "From the output, the most important features for the first principal component are Net Profit, Dealer Wins, and Player Wins, while the most important features for the second principal component are Total Bet and Pushes.\n",
    "\n",
    "Note that the eigen values for Net Profit, Dealer Wins, and Player Wins are all fairly close to each other, indicating that they have similar contributions to the variance in the data for the first principal component. Similarly, the eigen values for Total Bet, Pushes, and Card Counting are very small compared to the other features, indicating that they have less influence on the variance in the data.\n",
    "\n",
    "In particular, Net Profit is an important feature, which indicates that the amount of money won or lost in each round is a key factor in detecting card counting behavior. This makes sense, as card counting strategies involve adjusting the size of bets based on the count of cards in the deck, in order to take advantage of situations where the player has an edge over the dealer.\n",
    "\n",
    "Dealer Wins and Player Wins are also important features, which could be related to card counting. Card counters may adjust their betting strategy based on whether they are winning or losing in order to maximize their profits."
   ]
  },
  {
   "cell_type": "code",
   "execution_count": 49,
   "metadata": {},
   "outputs": [
    {
     "data": {
      "image/png": "[encoded data removed]",
      "text/plain": [
       "<Figure size 640x480 with 1 Axes>"
      ]
     },
     "metadata": {},
     "output_type": "display_data"
    }
   ],
   "source": [
    "import matplotlib.pyplot as plt\n",
    "\n",
    "colors = ['red' if cc_used else 'blue' for cc_used in df['Card Counting']] \n",
    "\n",
    "pca_data = pca.transform(df_normalized)\n",
    "\n",
    "plt.scatter(pca_data[:,0], pca_data[:,1], c=colors)\n",
    "plt.xlabel(\"PC1\")\n",
    "plt.ylabel(\"PC2\")\n",
    "plt.title(\"PCA Results\")\n",
    "plt.show()\n"
   ]
  },
  {
   "attachments": {},
   "cell_type": "markdown",
   "metadata": {},
   "source": [
    "Anomaly Detection:"
   ]
  },
  {
   "cell_type": "code",
   "execution_count": 50,
   "metadata": {},
   "outputs": [
    {
     "name": "stderr",
     "output_type": "stream",
     "text": [
      "C:\\Users\\h1489\\AppData\\Local\\Packages\\PythonSoftwareFoundation.Python.3.10_qbz5n2kfra8p0\\LocalCache\\local-packages\\Python310\\site-packages\\sklearn\\base.py:439: UserWarning: X does not have valid feature names, but IsolationForest was fitted with feature names\n",
      "  warnings.warn(\n"
     ]
    },
    {
     "name": "stdout",
     "output_type": "stream",
     "text": [
      "Number of anomalies detected: 100\n"
     ]
    }
   ],
   "source": [
    "import pandas as pd\n",
    "from sklearn.ensemble import IsolationForest\n",
    "\n",
    "# Fit the Isolation Forest model\n",
    "model = IsolationForest(contamination=0.05)\n",
    "model.fit(X)\n",
    "\n",
    "# Predict the labels for the data\n",
    "y_pred = model.predict(X)\n",
    "\n",
    "# Add the predicted labels as a new column in the dataframe\n",
    "df['Anomaly'] = y_pred\n",
    "\n",
    "# Print the number of anomalies detected\n",
    "print(\"Number of anomalies detected:\", sum(y_pred == -1))\n"
   ]
  },
  {
   "cell_type": "code",
   "execution_count": 51,
   "metadata": {},
   "outputs": [
    {
     "name": "stdout",
     "output_type": "stream",
     "text": [
      "Mean of anomaly features:\n",
      "Dealer Wins       490.170\n",
      "Player Wins       427.110\n",
      "Pushes             82.720\n",
      "Total Bet        1404.240\n",
      "Net Profit        -33.815\n",
      "Card Counting       0.640\n",
      "dtype: float64\n",
      "\n",
      "Standard deviation of anomaly features:\n",
      "Dealer Wins       34.649196\n",
      "Player Wins       34.201983\n",
      "Pushes            13.053178\n",
      "Total Bet        270.504173\n",
      "Net Profit       113.911663\n",
      "Card Counting      0.482418\n",
      "dtype: float64\n"
     ]
    }
   ],
   "source": [
    "# Extract the indices of the anomalies\n",
    "anomaly_indices = np.where(y_pred == -1)[0]\n",
    "\n",
    "# Extract the features of the anomalies\n",
    "anomaly_features = X.iloc[anomaly_indices]\n",
    "\n",
    "# Compute the mean and standard deviation of the anomaly features\n",
    "anomaly_mean = anomaly_features.mean()\n",
    "anomaly_std = anomaly_features.std()\n",
    "\n",
    "# Print the mean and standard deviation of the anomaly features\n",
    "print(\"Mean of anomaly features:\")\n",
    "print(anomaly_mean)\n",
    "print(\"\\nStandard deviation of anomaly features:\")\n",
    "print(anomaly_std)\n"
   ]
  },
  {
   "attachments": {},
   "cell_type": "markdown",
   "metadata": {},
   "source": [
    "The mean values of most features in the anomalies are significantly different from those of the non-anomalies. For example, the mean value of Total Bet in the anomalies is more than twice as high as that in the non-anomalies. This suggests that the anomalies represent data points that are significantly different from the normal patterns in the dataset.\n",
    "\n",
    "The standard deviation of most features in the anomalies is also significantly different from those of the non-anomalies. This suggests that the anomalies not only differ in terms of their mean values, but also in terms of the variability and spread of their features.\n",
    "\n",
    "The standard deviation of Net Profit and Total Bet in the anomalies is particularly high, which may indicate that the anomalies are data points with extreme values of this feature. This could be an important factor driving their classification as anomalies.\n",
    "\n",
    "The mean values suggest that, on average, the players in the dataset are losing money over time (Net Profit is negative) and the dealer is winning more frequently than the player. The mean value for Card Counting is relatively low (0.59), indicating that card counting is not very prevalent in the dataset.\n",
    "\n",
    "The standard deviation values suggest that there is a large amount of variability in Total Bet, Net Profit, Dealer Wins, and Player Wins across the dataset. This may make it challenging to predict card counting accurately as there are likely many factors that contribute to the variation in these features, including luck, skill, and betting strategy."
   ]
  },
  {
   "cell_type": "code",
   "execution_count": 52,
   "metadata": {},
   "outputs": [
    {
     "ename": "IndexError",
     "evalue": "list index out of range",
     "output_type": "error",
     "traceback": [
      "\u001b[1;31m---------------------------------------------------------------------------\u001b[0m",
      "\u001b[1;31mIndexError\u001b[0m                                Traceback (most recent call last)",
      "Cell \u001b[1;32mIn[52], line 24\u001b[0m\n\u001b[0;32m     22\u001b[0m \u001b[39mfor\u001b[39;00m i \u001b[39min\u001b[39;00m \u001b[39mrange\u001b[39m(\u001b[39mlen\u001b[39m(df)):\n\u001b[0;32m     23\u001b[0m     \u001b[39mif\u001b[39;00m df\u001b[39m.\u001b[39mloc[i, \u001b[39m'\u001b[39m\u001b[39mAnomaly\u001b[39m\u001b[39m'\u001b[39m] \u001b[39m==\u001b[39m \u001b[39m-\u001b[39m\u001b[39m1\u001b[39m:\n\u001b[1;32m---> 24\u001b[0m         ax\u001b[39m.\u001b[39;49mget_xticklabels()[i]\u001b[39m.\u001b[39mset_color(\u001b[39m'\u001b[39m\u001b[39mred\u001b[39m\u001b[39m'\u001b[39m)\n\u001b[0;32m     25\u001b[0m         ax\u001b[39m.\u001b[39mget_yticklabels()[i]\u001b[39m.\u001b[39mset_color(\u001b[39m'\u001b[39m\u001b[39mred\u001b[39m\u001b[39m'\u001b[39m)\n\u001b[0;32m     27\u001b[0m \u001b[39m# Show the plot\u001b[39;00m\n",
      "\u001b[1;31mIndexError\u001b[0m: list index out of range"
     ]
    },
    {
     "data": {
      "image/png": "[encoded data removed]",
      "text/plain": [
       "<Figure size 800x600 with 2 Axes>"
      ]
     },
     "metadata": {},
     "output_type": "display_data"
    }
   ],
   "source": [
    "import seaborn as sns\n",
    "import matplotlib.pyplot as plt\n",
    "\n",
    "# Create a correlation matrix\n",
    "corr_matrix = X.corr()\n",
    "\n",
    "# Create a mask for the upper triangle\n",
    "mask = np.triu(np.ones_like(corr_matrix, dtype=bool))\n",
    "\n",
    "# Set up the figure\n",
    "fig, ax = plt.subplots(figsize=(8, 6))\n",
    "\n",
    "# Create a heatmap\n",
    "sns.heatmap(corr_matrix, mask=mask, cmap='coolwarm', annot=True, ax=ax)\n",
    "\n",
    "# Add title and axis labels\n",
    "ax.set_title('Correlation Matrix with Anomalies Highlighted')\n",
    "plt.xlabel('Features')\n",
    "plt.ylabel('Features')\n",
    "\n",
    "# Highlight anomalies in red\n",
    "for i in range(len(df)):\n",
    "    if df.loc[i, 'Anomaly'] == -1:\n",
    "        ax.get_xticklabels()[i].set_color('red')\n",
    "        ax.get_yticklabels()[i].set_color('red')\n",
    "\n",
    "# Show the plot\n",
    "plt.show()\n"
   ]
  },
  {
   "cell_type": "code",
   "execution_count": 55,
   "metadata": {},
   "outputs": [
    {
     "name": "stdout",
     "output_type": "stream",
     "text": [
      "R^2 score: 0.786963234198823\n",
      "Mean squared error: 0.053257859970508005\n",
      "Coefficients: [-0.00058136  0.00077361 -0.00019225  0.00195118 -0.00042154]\n",
      "Intercept: -2.0814194382570603\n"
     ]
    }
   ],
   "source": [
    "import pandas as pd\n",
    "from sklearn.linear_model import LinearRegression\n",
    "from sklearn.model_selection import train_test_split\n",
    "from sklearn.metrics import r2_score, mean_squared_error\n",
    "\n",
    "# Load the dataset\n",
    "df = pd.read_excel(\"datasets/blackjack_data.xlsx\")\n",
    "\n",
    "# Split the dataset into training and test sets\n",
    "X_train, X_test, y_train, y_test = train_test_split(df[['Dealer Wins', 'Player Wins', 'Pushes', 'Total Bet', 'Net Profit']], df['Card Counting'], test_size=0.2, random_state=42)\n",
    "\n",
    "# Create a linear regression model\n",
    "model = LinearRegression()\n",
    "\n",
    "# Fit the model to the training data\n",
    "model.fit(X_train, y_train)\n",
    "\n",
    "# Predict the card counting values for the test data\n",
    "y_pred = model.predict(X_test)\n",
    "\n",
    "# Compute the R^2 score and mean squared error of the model on the test data\n",
    "r2 = r2_score(y_test, y_pred)\n",
    "mse = mean_squared_error(y_test, y_pred)\n",
    "\n",
    "# Print the R^2 score and mean squared error\n",
    "print(\"R^2 score:\", r2)\n",
    "print(\"Mean squared error:\", mse)\n",
    "\n",
    "# Print the coefficients and intercept of the model\n",
    "print(\"Coefficients:\", model.coef_)\n",
    "print(\"Intercept:\", model.intercept_)\n"
   ]
  },
  {
   "attachments": {},
   "cell_type": "markdown",
   "metadata": {},
   "source": [
    "The linear regression model has an R^2 score of 0.786963234198823 and a mean squared error of 0.053257859970508005. This indicates that the model explains about 78.7% of the variance in the target variable, card counting, meaning that the model is able to capture a large proportion of the variation in card counting and is a reasonably good fit for the data. The mean squared error of 0.0532 indicates that, on average, the predicted card counting values are off by about 0.23 units (square root of mean squared error). This is a relatively small error, which suggests that the model is making accurate predictions.\n",
    "\n",
    "To interpret the coefficients, one-unit increase in a particular feature will result in a change of the target variable (card counting) equal to the corresponding coefficient while holding all other features constant.\n",
    "\n",
    "For example, a one-unit increase in \"Total Bet\" results in an increase in card counting by 0.00195118 while holding all other features constant. Similarly, a one-unit increase in \"Dealer Wins\" results in a decrease in card counting by 0.00058136 while holding all other features constant.\n",
    "\n",
    "The intercept term (-2.0814194382570603) represents the predicted value of card counting when all features are equal to zero. However, since all of the features in this dataset are counts or dollar amounts, this value may not have a meaningful interpretation in the context of the data.\n",
    "\n",
    "However,it is also important to assess the model's performance using other metrics and techniques, so the next approach will use cross-validation, to ensure that the model is not overfitting to the training data."
   ]
  },
  {
   "cell_type": "code",
   "execution_count": 54,
   "metadata": {},
   "outputs": [
    {
     "name": "stdout",
     "output_type": "stream",
     "text": [
      "Mean R^2 score: 0.8028597105698955\n"
     ]
    }
   ],
   "source": [
    "import pandas as pd\n",
    "from sklearn.model_selection import train_test_split, cross_val_score\n",
    "from sklearn.linear_model import LinearRegression\n",
    "\n",
    "# Load the dataset\n",
    "df = pd.read_excel(\"datasets/blackjack_data.xlsx\")\n",
    "\n",
    "# Extract the features\n",
    "X = df[['Dealer Wins', 'Player Wins', 'Pushes', 'Total Bet', 'Net Profit']]\n",
    "\n",
    "# Extract the target variable\n",
    "y = df['Card Counting']\n",
    "\n",
    "# Split the data into training and testing sets\n",
    "X_train, X_test, y_train, y_test = train_test_split(X, y, test_size=0.2, random_state=42)\n",
    "\n",
    "# Create a Linear Regression model\n",
    "model = LinearRegression()\n",
    "\n",
    "# Perform 10-fold cross-validation and compute the mean R^2 score\n",
    "cv_scores = cross_val_score(model, X_train, y_train, cv=10)\n",
    "mean_cv_score = cv_scores.mean()\n",
    "\n",
    "# Print the mean R^2 score\n",
    "print(\"Mean R^2 score:\", mean_cv_score)\n"
   ]
  },
  {
   "attachments": {},
   "cell_type": "markdown",
   "metadata": {},
   "source": [
    "A mean R^2 score of 0.8028 indicates that the linear regression model has a good fit for the blackjack dataset to predict card counting. This means that the independent variables included in the model (Dealer Wins, Player Wins, Pushes, Total Bet, and Net Profit) explain about 80% of the variability in the dependent variable (Card Counting).\n",
    "\n",
    "Cross-validation helps to evaluate the model's performance and generalization ability. By splitting the data into multiple subsets and training the model on different combinations of these subsets, cross-validation gives a more reliable estimate of the model's accuracy than just looking at the training set performance.\n",
    "\n",
    "In this case, the cross-validated R^2 score is close to the original R^2 score, indicating that the model is not overfitting to the training set and is likely to generalize well to new, unseen data."
   ]
  }
 ],
 "metadata": {
  "kernelspec": {
   "display_name": "Python 3",
   "language": "python",
   "name": "python3"
  },
  "language_info": {
   "codemirror_mode": {
    "name": "ipython",
    "version": 3
   },
   "file_extension": ".py",
   "mimetype": "text/x-python",
   "name": "python",
   "nbconvert_exporter": "python",
   "pygments_lexer": "ipython3",
   "version": "3.10.11"
  },
  "orig_nbformat": 4
 },
 "nbformat": 4,
 "nbformat_minor": 2
}
